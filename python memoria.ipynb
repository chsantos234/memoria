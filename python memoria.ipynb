{
 "cells": [
  {
   "cell_type": "code",
   "execution_count": null,
   "metadata": {},
   "outputs": [],
   "source": [
    "\n",
    "V = [[0,0,0,0,0,0,0,0],\n",
    "     [0,0,0,0,0,0,0,0],\n",
    "     [0,0,0,0,0,0,0,0],\n",
    "     [0,0,0,0,0,0,0,0],\n",
    "     [0,0,0,0,0,0,0,0],\n",
    "     [0,0,0,0,0,0,0,0],\n",
    "     [0,0,0,0,0,0,0,0],\n",
    "     [0,0,0,0,0,0,0,0],\n",
    "     [0,0,0,0,0,0,0,0],\n",
    "     [0,0,0,0,0,0,0,0],\n",
    "     [0,0,0,0,0,0,0,0],\n",
    "     [0,0,0,0,0,0,0,0],\n",
    "     [0,0,0,0,0,0,0,0],\n",
    "     [0,0,0,0,0,0,0,0],\n",
    "     [0,0,0,0,0,0,0,0],\n",
    "     [0,0,0,0,0,0,0,0]]\n",
    "\n",
    "while True:\n",
    "    I = input('Digite W para escrever, R para Ler, L para listar toda memoria e qualquer tecla para parar:')\n",
    "    if I == 'W':\n",
    "        b = input('Digite um endereco de 4 bits:')\n",
    "        d = int(b,2)\n",
    "        V.pop(d)\n",
    "        a = int(input('Digite o dado de 8 bits:'))\n",
    "        l = list(str(a))\n",
    "        while len(l)<8:\n",
    "            l.insert(0,0)\n",
    "        V.insert(d,l)\n",
    "    elif I == 'R':\n",
    "        b = input('Digite um endereco de 4 bits:')\n",
    "        d = int(b,2)\n",
    "        print(*V[d], sep='')\n",
    "    elif I == 'L':\n",
    "        for i in range(len(V)):\n",
    "            print(*V[i], sep='')\n",
    "    else:\n",
    "        break\n"
   ]
  },
  {
   "cell_type": "code",
   "execution_count": null,
   "metadata": {},
   "outputs": [],
   "source": []
  }
 ],
 "metadata": {
  "kernelspec": {
   "display_name": "Python 3",
   "language": "python",
   "name": "python3"
  },
  "language_info": {
   "codemirror_mode": {
    "name": "ipython",
    "version": 3
   },
   "file_extension": ".py",
   "mimetype": "text/x-python",
   "name": "python",
   "nbconvert_exporter": "python",
   "pygments_lexer": "ipython3",
   "version": "3.8.3"
  }
 },
 "nbformat": 4,
 "nbformat_minor": 4
}
